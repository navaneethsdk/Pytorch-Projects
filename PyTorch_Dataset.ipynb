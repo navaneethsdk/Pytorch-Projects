{
  "nbformat": 4,
  "nbformat_minor": 0,
  "metadata": {
    "colab": {
      "name": "PyTorch_Dataset.ipynb",
      "provenance": [],
      "toc_visible": true,
      "authorship_tag": "ABX9TyMA7ivKh/K0KtYWPiA2VKdr",
      "include_colab_link": true
    },
    "kernelspec": {
      "name": "python3",
      "display_name": "Python 3"
    }
  },
  "cells": [
    {
      "cell_type": "markdown",
      "metadata": {
        "id": "view-in-github",
        "colab_type": "text"
      },
      "source": [
        "<a href=\"https://colab.research.google.com/github/navaneethsdk/Pytorch-Projects/blob/master/PyTorch_Dataset.ipynb\" target=\"_parent\"><img src=\"https://colab.research.google.com/assets/colab-badge.svg\" alt=\"Open In Colab\"/></a>"
      ]
    },
    {
      "cell_type": "code",
      "metadata": {
        "id": "h_087LKSmVFg",
        "colab_type": "code",
        "colab": {
          "base_uri": "https://localhost:8080/",
          "height": 34
        },
        "outputId": "7975ee46-a38d-4d12-97a8-f1023a2a26d1"
      },
      "source": [
        "# These are the libraries will be used for this lab.\n",
        "\n",
        "import torch\n",
        "from torch.utils.data import Dataset\n",
        "torch.manual_seed(1)"
      ],
      "execution_count": null,
      "outputs": [
        {
          "output_type": "execute_result",
          "data": {
            "text/plain": [
              "<torch._C.Generator at 0x7f1a92f1c430>"
            ]
          },
          "metadata": {
            "tags": []
          },
          "execution_count": 1
        }
      ]
    },
    {
      "cell_type": "code",
      "metadata": {
        "id": "wTIC2GjJmdoV",
        "colab_type": "code",
        "colab": {}
      },
      "source": [
        "# Define class for dataset\n",
        "\n",
        "class toy_set(Dataset):\n",
        "    \n",
        "    # Constructor with defult values \n",
        "    def __init__(self, length = 100, transform = None):\n",
        "        self.len = length\n",
        "        self.x = 2 * torch.ones(length, 2)\n",
        "        self.y = torch.ones(length, 1)\n",
        "        self.transform = transform\n",
        "     \n",
        "    # Getter\n",
        "    def __getitem__(self, index):\n",
        "        sample = self.x[index], self.y[index]\n",
        "        if self.transform:\n",
        "            sample = self.transform(sample)     \n",
        "        return sample\n",
        "    \n",
        "    # Get Length\n",
        "    def __len__(self):\n",
        "        return self.len"
      ],
      "execution_count": null,
      "outputs": []
    },
    {
      "cell_type": "code",
      "metadata": {
        "id": "2JvvTMINmj2Z",
        "colab_type": "code",
        "colab": {
          "base_uri": "https://localhost:8080/",
          "height": 68
        },
        "outputId": "b746989a-86dc-4bc9-ae74-073790ea91ea"
      },
      "source": [
        "# Create Dataset Object. Find out the value on index 1. Find out the length of Dataset Object.\n",
        "\n",
        "our_dataset = toy_set()\n",
        "print(\"Our toy_set object: \", our_dataset)\n",
        "print(\"Value on index 0 of our toy_set object: \", our_dataset[0])\n",
        "print(\"Our toy_set length: \", len(our_dataset))"
      ],
      "execution_count": null,
      "outputs": [
        {
          "output_type": "stream",
          "text": [
            "Our toy_set object:  <__main__.toy_set object at 0x7f1a92983f28>\n",
            "Value on index 0 of our toy_set object:  (tensor([2., 2.]), tensor([1.]))\n",
            "Our toy_set length:  100\n"
          ],
          "name": "stdout"
        }
      ]
    },
    {
      "cell_type": "code",
      "metadata": {
        "id": "XyAzWH4kmnu0",
        "colab_type": "code",
        "colab": {
          "base_uri": "https://localhost:8080/",
          "height": 68
        },
        "outputId": "7c09b9e9-d9f0-4fcd-d6c4-feb7e3e2a5af"
      },
      "source": [
        "# Use loop to print out first 3 elements in dataset\n",
        "\n",
        "for i in range(3):\n",
        "    x, y=our_dataset[i]\n",
        "    print(\"index: \", i, '; x:', x, '; y:', y)"
      ],
      "execution_count": null,
      "outputs": [
        {
          "output_type": "stream",
          "text": [
            "index:  0 ; x: tensor([2., 2.]) ; y: tensor([1.])\n",
            "index:  1 ; x: tensor([2., 2.]) ; y: tensor([1.])\n",
            "index:  2 ; x: tensor([2., 2.]) ; y: tensor([1.])\n"
          ],
          "name": "stdout"
        }
      ]
    },
    {
      "cell_type": "code",
      "metadata": {
        "id": "ADan2VDFmrVl",
        "colab_type": "code",
        "colab": {}
      },
      "source": [
        "# Create tranform class add_mult\n",
        "\n",
        "class add_mult(object):\n",
        "    \n",
        "    # Constructor\n",
        "    def __init__(self, addx = 1, muly = 2):\n",
        "        self.addx = addx\n",
        "        self.muly = muly\n",
        "    \n",
        "    # Executor\n",
        "    def __call__(self, sample):\n",
        "        x = sample[0]\n",
        "        y = sample[1]\n",
        "        x = x + self.addx\n",
        "        y = y * self.muly\n",
        "        sample = x, y\n",
        "        return sample"
      ],
      "execution_count": null,
      "outputs": []
    },
    {
      "cell_type": "code",
      "metadata": {
        "id": "Y8O8lnz4mv13",
        "colab_type": "code",
        "colab": {}
      },
      "source": [
        "# Create an add_mult transform object, and an toy_set object\n",
        "\n",
        "a_m = add_mult()\n",
        "data_set = toy_set()"
      ],
      "execution_count": null,
      "outputs": []
    },
    {
      "cell_type": "code",
      "metadata": {
        "id": "I2gzM06Zm0gl",
        "colab_type": "code",
        "colab": {
          "base_uri": "https://localhost:8080/",
          "height": 357
        },
        "outputId": "7d9eb2fd-1d4a-4478-b6e3-ed4b7a716947"
      },
      "source": [
        "# Use loop to print out first 10 elements in dataset\n",
        "\n",
        "for i in range(10):\n",
        "    x, y = data_set[i]\n",
        "    print('Index: ', i, 'Original x: ', x, 'Original y: ', y)\n",
        "    x_, y_ = a_m(data_set[i])\n",
        "    print('Index: ', i, 'Transformed x_:', x_, 'Transformed y_:', y_)"
      ],
      "execution_count": null,
      "outputs": [
        {
          "output_type": "stream",
          "text": [
            "Index:  0 Original x:  tensor([2., 2.]) Original y:  tensor([1.])\n",
            "Index:  0 Transformed x_: tensor([3., 3.]) Transformed y_: tensor([2.])\n",
            "Index:  1 Original x:  tensor([2., 2.]) Original y:  tensor([1.])\n",
            "Index:  1 Transformed x_: tensor([3., 3.]) Transformed y_: tensor([2.])\n",
            "Index:  2 Original x:  tensor([2., 2.]) Original y:  tensor([1.])\n",
            "Index:  2 Transformed x_: tensor([3., 3.]) Transformed y_: tensor([2.])\n",
            "Index:  3 Original x:  tensor([2., 2.]) Original y:  tensor([1.])\n",
            "Index:  3 Transformed x_: tensor([3., 3.]) Transformed y_: tensor([2.])\n",
            "Index:  4 Original x:  tensor([2., 2.]) Original y:  tensor([1.])\n",
            "Index:  4 Transformed x_: tensor([3., 3.]) Transformed y_: tensor([2.])\n",
            "Index:  5 Original x:  tensor([2., 2.]) Original y:  tensor([1.])\n",
            "Index:  5 Transformed x_: tensor([3., 3.]) Transformed y_: tensor([2.])\n",
            "Index:  6 Original x:  tensor([2., 2.]) Original y:  tensor([1.])\n",
            "Index:  6 Transformed x_: tensor([3., 3.]) Transformed y_: tensor([2.])\n",
            "Index:  7 Original x:  tensor([2., 2.]) Original y:  tensor([1.])\n",
            "Index:  7 Transformed x_: tensor([3., 3.]) Transformed y_: tensor([2.])\n",
            "Index:  8 Original x:  tensor([2., 2.]) Original y:  tensor([1.])\n",
            "Index:  8 Transformed x_: tensor([3., 3.]) Transformed y_: tensor([2.])\n",
            "Index:  9 Original x:  tensor([2., 2.]) Original y:  tensor([1.])\n",
            "Index:  9 Transformed x_: tensor([3., 3.]) Transformed y_: tensor([2.])\n"
          ],
          "name": "stdout"
        }
      ]
    },
    {
      "cell_type": "code",
      "metadata": {
        "id": "YWu8PoqYm2Y1",
        "colab_type": "code",
        "colab": {}
      },
      "source": [
        "# Create a new data_set object with add_mult object as transform\n",
        "\n",
        "cust_data_set = toy_set(transform = a_m)"
      ],
      "execution_count": null,
      "outputs": []
    },
    {
      "cell_type": "code",
      "metadata": {
        "id": "v3FlQfV9m-6r",
        "colab_type": "code",
        "colab": {
          "base_uri": "https://localhost:8080/",
          "height": 357
        },
        "outputId": "f3ab36b5-827b-4639-cb37-7d5f0519b47b"
      },
      "source": [
        "# Use loop to print out first 10 elements in dataset\n",
        "\n",
        "for i in range(10):\n",
        "    x, y = data_set[i]\n",
        "    print('Index: ', i, 'Original x: ', x, 'Original y: ', y)\n",
        "    x_, y_ = cust_data_set[i]\n",
        "    print('Index: ', i, 'Transformed x_:', x_, 'Transformed y_:', y_)"
      ],
      "execution_count": null,
      "outputs": [
        {
          "output_type": "stream",
          "text": [
            "Index:  0 Original x:  tensor([2., 2.]) Original y:  tensor([1.])\n",
            "Index:  0 Transformed x_: tensor([3., 3.]) Transformed y_: tensor([2.])\n",
            "Index:  1 Original x:  tensor([2., 2.]) Original y:  tensor([1.])\n",
            "Index:  1 Transformed x_: tensor([3., 3.]) Transformed y_: tensor([2.])\n",
            "Index:  2 Original x:  tensor([2., 2.]) Original y:  tensor([1.])\n",
            "Index:  2 Transformed x_: tensor([3., 3.]) Transformed y_: tensor([2.])\n",
            "Index:  3 Original x:  tensor([2., 2.]) Original y:  tensor([1.])\n",
            "Index:  3 Transformed x_: tensor([3., 3.]) Transformed y_: tensor([2.])\n",
            "Index:  4 Original x:  tensor([2., 2.]) Original y:  tensor([1.])\n",
            "Index:  4 Transformed x_: tensor([3., 3.]) Transformed y_: tensor([2.])\n",
            "Index:  5 Original x:  tensor([2., 2.]) Original y:  tensor([1.])\n",
            "Index:  5 Transformed x_: tensor([3., 3.]) Transformed y_: tensor([2.])\n",
            "Index:  6 Original x:  tensor([2., 2.]) Original y:  tensor([1.])\n",
            "Index:  6 Transformed x_: tensor([3., 3.]) Transformed y_: tensor([2.])\n",
            "Index:  7 Original x:  tensor([2., 2.]) Original y:  tensor([1.])\n",
            "Index:  7 Transformed x_: tensor([3., 3.]) Transformed y_: tensor([2.])\n",
            "Index:  8 Original x:  tensor([2., 2.]) Original y:  tensor([1.])\n",
            "Index:  8 Transformed x_: tensor([3., 3.]) Transformed y_: tensor([2.])\n",
            "Index:  9 Original x:  tensor([2., 2.]) Original y:  tensor([1.])\n",
            "Index:  9 Transformed x_: tensor([3., 3.]) Transformed y_: tensor([2.])\n"
          ],
          "name": "stdout"
        }
      ]
    },
    {
      "cell_type": "code",
      "metadata": {
        "id": "bMrZmNNJnC18",
        "colab_type": "code",
        "colab": {}
      },
      "source": [
        "# Run the command below when you do not have torchvision installed\n",
        "# !conda install -y torchvision\n",
        "\n",
        "from torchvision import transforms"
      ],
      "execution_count": null,
      "outputs": []
    },
    {
      "cell_type": "code",
      "metadata": {
        "id": "lk0Cr0YCnaSl",
        "colab_type": "code",
        "colab": {}
      },
      "source": [
        "# Create tranform class mult\n",
        "\n",
        "class mult(object):\n",
        "    \n",
        "    # Constructor\n",
        "    def __init__(self, mult = 100):\n",
        "        self.mult = mult\n",
        "        \n",
        "    # Executor\n",
        "    def __call__(self, sample):\n",
        "        x = sample[0]\n",
        "        y = sample[1]\n",
        "        x = x * self.mult\n",
        "        y = y * self.mult\n",
        "        sample = x, y\n",
        "        return sample"
      ],
      "execution_count": null,
      "outputs": []
    },
    {
      "cell_type": "code",
      "metadata": {
        "id": "4ZWDb-uvpwor",
        "colab_type": "code",
        "colab": {
          "base_uri": "https://localhost:8080/",
          "height": 85
        },
        "outputId": "a8de1649-98af-43f9-feb7-4d9c77391203"
      },
      "source": [
        "# Combine the add_mult() and mult()\n",
        "\n",
        "data_transform = transforms.Compose([add_mult(), mult()])\n",
        "print(\"The combination of transforms (Compose): \", data_transform)"
      ],
      "execution_count": null,
      "outputs": [
        {
          "output_type": "stream",
          "text": [
            "The combination of transforms (Compose):  Compose(\n",
            "    <__main__.add_mult object at 0x7f1a929896d8>\n",
            "    <__main__.mult object at 0x7f1a929890b8>\n",
            ")\n"
          ],
          "name": "stdout"
        }
      ]
    },
    {
      "cell_type": "code",
      "metadata": {
        "id": "O7qP2AYep1c0",
        "colab_type": "code",
        "colab": {}
      },
      "source": [
        "# Create a new toy_set object with compose object as transform\n",
        "\n",
        "compose_data_set = toy_set(transform = data_transform)"
      ],
      "execution_count": null,
      "outputs": []
    },
    {
      "cell_type": "code",
      "metadata": {
        "id": "kAxLLKaap9t6",
        "colab_type": "code",
        "colab": {
          "base_uri": "https://localhost:8080/",
          "height": 170
        },
        "outputId": "cba4d582-1601-4f50-befc-1a5752b87dbc"
      },
      "source": [
        "# Use loop to print out first 3 elements in dataset\n",
        "\n",
        "for i in range(3):\n",
        "    x, y = data_set[i]\n",
        "    print('Index: ', i, 'Original x: ', x, 'Original y: ', y)\n",
        "    x_, y_ = cust_data_set[i]\n",
        "    print('Index: ', i, 'Transformed x_:', x_, 'Transformed y_:', y_)\n",
        "    x_co, y_co = compose_data_set[i]\n",
        "    print('Index: ', i, 'Compose Transformed x_co: ', x_co ,'Compose Transformed y_co: ',y_co)"
      ],
      "execution_count": null,
      "outputs": [
        {
          "output_type": "stream",
          "text": [
            "Index:  0 Original x:  tensor([2., 2.]) Original y:  tensor([1.])\n",
            "Index:  0 Transformed x_: tensor([3., 3.]) Transformed y_: tensor([2.])\n",
            "Index:  0 Compose Transformed x_co:  tensor([300., 300.]) Compose Transformed y_co:  tensor([200.])\n",
            "Index:  1 Original x:  tensor([2., 2.]) Original y:  tensor([1.])\n",
            "Index:  1 Transformed x_: tensor([3., 3.]) Transformed y_: tensor([2.])\n",
            "Index:  1 Compose Transformed x_co:  tensor([300., 300.]) Compose Transformed y_co:  tensor([200.])\n",
            "Index:  2 Original x:  tensor([2., 2.]) Original y:  tensor([1.])\n",
            "Index:  2 Transformed x_: tensor([3., 3.]) Transformed y_: tensor([2.])\n",
            "Index:  2 Compose Transformed x_co:  tensor([300., 300.]) Compose Transformed y_co:  tensor([200.])\n"
          ],
          "name": "stdout"
        }
      ]
    },
    {
      "cell_type": "markdown",
      "metadata": {
        "id": "4hCjWzf6qk_f",
        "colab_type": "text"
      },
      "source": [
        "# **Prebuilt dataset**"
      ]
    },
    {
      "cell_type": "code",
      "metadata": {
        "id": "fgJjFOZ4qJZx",
        "colab_type": "code",
        "colab": {
          "base_uri": "https://localhost:8080/",
          "height": 34
        },
        "outputId": "28ee9cbb-20e1-48e7-b609-8fc27bdf7ec9"
      },
      "source": [
        "# These are the libraries will be used for this lab.\n",
        "\n",
        "import torch \n",
        "import matplotlib.pylab as plt\n",
        "import numpy as np\n",
        "torch.manual_seed(0)"
      ],
      "execution_count": null,
      "outputs": [
        {
          "output_type": "execute_result",
          "data": {
            "text/plain": [
              "<torch._C.Generator at 0x7f1a92f1c430>"
            ]
          },
          "metadata": {
            "tags": []
          },
          "execution_count": 39
        }
      ]
    },
    {
      "cell_type": "code",
      "metadata": {
        "id": "LCroSfzpqqzo",
        "colab_type": "code",
        "colab": {}
      },
      "source": [
        "# Show data by diagram\n",
        "\n",
        "def show_data(data_sample, shape = (28, 28)):\n",
        "    plt.imshow(data_sample[0].numpy().reshape(shape), cmap='gray')\n",
        "    # plt.title('y = ' + str(data_sample[1].item()))\n",
        "    plt.title('y = ' + str(data_sample[1]))"
      ],
      "execution_count": null,
      "outputs": []
    },
    {
      "cell_type": "code",
      "metadata": {
        "id": "jfVZD28sqzB1",
        "colab_type": "code",
        "colab": {}
      },
      "source": [
        "# Run the command below when you do not have torchvision installed\n",
        "# !conda install -y torchvision\n",
        "\n",
        "import torchvision.transforms as transforms\n",
        "import torchvision.datasets as dsets"
      ],
      "execution_count": null,
      "outputs": []
    },
    {
      "cell_type": "code",
      "metadata": {
        "id": "mByPvDFcq9P8",
        "colab_type": "code",
        "colab": {}
      },
      "source": [
        "    # Import the prebuilt dataset into variable dataset\n",
        "\n",
        "dataset = dsets.MNIST(\n",
        "    root = './data', \n",
        "    train = False, \n",
        "    download = True, \n",
        "    transform = transforms.ToTensor()\n",
        ")"
      ],
      "execution_count": null,
      "outputs": []
    },
    {
      "cell_type": "code",
      "metadata": {
        "id": "ZSJ9tK5rrZZN",
        "colab_type": "code",
        "colab": {
          "base_uri": "https://localhost:8080/",
          "height": 136
        },
        "outputId": "c7df3c4a-7bdf-4706-a30c-70bb7cae66b7"
      },
      "source": [
        "# Examine whether the elements in dataset MNIST are tuples, and what is in the tuple?\n",
        "\n",
        "print(\"Type of the first element: \", type(dataset[0]))\n",
        "print(\"The length of the tuple: \", len(dataset[0]))\n",
        "print(\"The shape of the first element in the tuple: \", dataset[0][0].shape)\n",
        "print(\"The type of the first element in the tuple\", type(dataset[0][0]))\n",
        "print(\"The second element in the tuple: \", dataset[0][1])\n",
        "print(\"The type of the second element in the tuple: \", type(dataset[0][1]))\n",
        "print(\"As the result, the structure of the first element in the dataset is (tensor([1, 28, 28]), tensor(7)).\")"
      ],
      "execution_count": null,
      "outputs": [
        {
          "output_type": "stream",
          "text": [
            "Type of the first element:  <class 'tuple'>\n",
            "The length of the tuple:  2\n",
            "The shape of the first element in the tuple:  torch.Size([1, 28, 28])\n",
            "The type of the first element in the tuple <class 'torch.Tensor'>\n",
            "The second element in the tuple:  7\n",
            "The type of the second element in the tuple:  <class 'int'>\n",
            "As the result, the structure of the first element in the dataset is (tensor([1, 28, 28]), tensor(7)).\n"
          ],
          "name": "stdout"
        }
      ]
    },
    {
      "cell_type": "code",
      "metadata": {
        "id": "u-Z8bJ0_rtdH",
        "colab_type": "code",
        "colab": {
          "base_uri": "https://localhost:8080/",
          "height": 281
        },
        "outputId": "9375dcdc-710f-4ce4-fb3a-2bfff39c574e"
      },
      "source": [
        "# Plot the first element in the dataset\n",
        "\n",
        "show_data(dataset[0])"
      ],
      "execution_count": null,
      "outputs": [
        {
          "output_type": "display_data",
          "data": {
            "image/png": "[encoded data removed]",
            "text/plain": [
              "<Figure size 432x288 with 1 Axes>"
            ]
          },
          "metadata": {
            "tags": [],
            "needs_background": "light"
          }
        }
      ]
    },
    {
      "cell_type": "code",
      "metadata": {
        "id": "yyNWHQkRsEvO",
        "colab_type": "code",
        "colab": {
          "base_uri": "https://localhost:8080/",
          "height": 34
        },
        "outputId": "47f245d9-345f-422d-f9ec-36266b837b3f"
      },
      "source": [
        "# Combine two transforms: crop and convert to tensor. Apply the compose to MNIST dataset\n",
        "\n",
        "croptensor_data_transform = transforms.Compose([transforms.CenterCrop(20), transforms.ToTensor()])\n",
        "dataset = dsets.MNIST(root = './data', train = False, download = True, transform = croptensor_data_transform)\n",
        "print(\"The shape of the first element in the first tuple: \", dataset[0][0].shape)"
      ],
      "execution_count": null,
      "outputs": [
        {
          "output_type": "stream",
          "text": [
            "The shape of the first element in the first tuple:  torch.Size([1, 20, 20])\n"
          ],
          "name": "stdout"
        }
      ]
    },
    {
      "cell_type": "code",
      "metadata": {
        "id": "ldZI4LH9tOqf",
        "colab_type": "code",
        "colab": {
          "base_uri": "https://localhost:8080/",
          "height": 281
        },
        "outputId": "bc023e3c-b16e-4e56-8df0-4cdd9c4fa6f5"
      },
      "source": [
        "# Plot the first element in the dataset\n",
        "\n",
        "show_data(dataset[0],shape = (20, 20))"
      ],
      "execution_count": null,
      "outputs": [
        {
          "output_type": "display_data",
          "data": {
            "image/png": "[encoded data removed]",
            "text/plain": [
              "<Figure size 432x288 with 1 Axes>"
            ]
          },
          "metadata": {
            "tags": [],
            "needs_background": "light"
          }
        }
      ]
    },
    {
      "cell_type": "code",
      "metadata": {
        "id": "nV_SiWnWuk3a",
        "colab_type": "code",
        "colab": {
          "base_uri": "https://localhost:8080/",
          "height": 281
        },
        "outputId": "dca998e2-cf86-4c0a-b2a7-b4551ecae600"
      },
      "source": [
        "# Plot the second element in the dataset\n",
        "\n",
        "show_data(dataset[1],shape = (20, 20))"
      ],
      "execution_count": null,
      "outputs": [
        {
          "output_type": "display_data",
          "data": {
            "image/png": "[encoded data removed]",
            "text/plain": [
              "<Figure size 432x288 with 1 Axes>"
            ]
          },
          "metadata": {
            "tags": [],
            "needs_background": "light"
          }
        }
      ]
    },
    {
      "cell_type": "code",
      "metadata": {
        "id": "_VJC917su-cP",
        "colab_type": "code",
        "colab": {
          "base_uri": "https://localhost:8080/",
          "height": 281
        },
        "outputId": "23992eaf-dfd7-4b0c-eaf0-74b5d6654816"
      },
      "source": [
        "# Construct the compose. Apply it on MNIST dataset. Plot the image out.\n",
        "\n",
        "fliptensor_data_transform = transforms.Compose([transforms.RandomHorizontalFlip(p = 1),transforms.ToTensor()])\n",
        "dataset = dsets.MNIST(root = './data', train = False, download = True, transform = fliptensor_data_transform)\n",
        "show_data(dataset[1])"
      ],
      "execution_count": null,
      "outputs": [
        {
          "output_type": "display_data",
          "data": {
            "image/png": "[encoded data removed]",
            "text/plain": [
              "<Figure size 432x288 with 1 Axes>"
            ]
          },
          "metadata": {
            "tags": [],
            "needs_background": "light"
          }
        }
      ]
    },
    {
      "cell_type": "code",
      "metadata": {
        "id": "cjip3PRgvC4d",
        "colab_type": "code",
        "colab": {}
      },
      "source": [
        ""
      ],
      "execution_count": null,
      "outputs": []
    }
  ]
}