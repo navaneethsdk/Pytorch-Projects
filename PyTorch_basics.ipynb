{
  "nbformat": 4,
  "nbformat_minor": 0,
  "metadata": {
    "colab": {
      "name": "PyTorch_basics.ipynb",
      "provenance": [],
      "authorship_tag": "ABX9TyNnBhgQkRc9qZsY8KEZSLEZ",
      "include_colab_link": true
    },
    "kernelspec": {
      "name": "python3",
      "display_name": "Python 3"
    }
  },
  "cells": [
    {
      "cell_type": "markdown",
      "metadata": {
        "id": "view-in-github",
        "colab_type": "text"
      },
      "source": [
        "<a href=\"https://colab.research.google.com/github/navaneethsdk/Pytorch-Projects/blob/master/PyTorch_basics.ipynb\" target=\"_parent\"><img src=\"https://colab.research.google.com/assets/colab-badge.svg\" alt=\"Open In Colab\"/></a>"
      ]
    },
    {
      "cell_type": "code",
      "metadata": {
        "id": "2Fnc8czgpS0C",
        "colab_type": "code",
        "colab": {}
      },
      "source": [
        "# These are the libraries will be used for this lab.\n",
        "\n",
        "import torch \n",
        "import numpy as np \n",
        "import pandas as pd\n",
        "\n",
        "import matplotlib.pyplot as plt\n",
        "%matplotlib inline  "
      ],
      "execution_count": null,
      "outputs": []
    },
    {
      "cell_type": "code",
      "metadata": {
        "id": "v0aNNCEIrfh9",
        "colab_type": "code",
        "colab": {}
      },
      "source": [
        "# Plot vecotrs, please keep the parameters in the same length\n",
        "# @param: Vectors = [{\"vector\": vector variable, \"name\": name of vector, \"color\": color of the vector on diagram}]\n",
        "    \n",
        "def plotVec(vectors):\n",
        "    ax = plt.axes()\n",
        "    \n",
        "    # For loop to draw the vectors\n",
        "    for vec in vectors:\n",
        "        ax.arrow(0, 0, *vec[\"vector\"], head_width = 0.05,color = vec[\"color\"], head_length = 0.1)\n",
        "        plt.text(*(vec[\"vector\"] + 0.1), vec[\"name\"])\n",
        "    \n",
        "    plt.ylim(-2,2)\n",
        "    plt.xlim(-2,2)"
      ],
      "execution_count": null,
      "outputs": []
    },
    {
      "cell_type": "code",
      "metadata": {
        "id": "GVbgAjAlwt73",
        "colab_type": "code",
        "colab": {
          "base_uri": "https://localhost:8080/",
          "height": 51
        },
        "outputId": "85279347-ade6-44b4-a9eb-323d831f3839"
      },
      "source": [
        "# Convert a integer list with length 5 to a tensor\n",
        "\n",
        "ints_to_tensor = torch.tensor([0, 1, 2, 3, 4])\n",
        "print(\"The dtype of tensor object after converting it to tensor: \", ints_to_tensor.dtype)\n",
        "print(\"The type of tensor object after converting it to tensor: \", ints_to_tensor.type())"
      ],
      "execution_count": null,
      "outputs": [
        {
          "output_type": "stream",
          "text": [
            "The dtype of tensor object after converting it to tensor:  torch.int64\n",
            "The type of tensor object after converting it to tensor:  torch.LongTensor\n"
          ],
          "name": "stdout"
        }
      ]
    },
    {
      "cell_type": "code",
      "metadata": {
        "id": "PS7l_6CRxN6b",
        "colab_type": "code",
        "colab": {
          "base_uri": "https://localhost:8080/",
          "height": 51
        },
        "outputId": "9a13259a-fe04-467d-db03-14e3410d24f6"
      },
      "source": [
        "# Convert a float list with length 5 to a tensor\n",
        "\n",
        "floats_to_tensor = torch.tensor([0.0, 1.0, 2.0, 3.0, 4.0])\n",
        "print(\"The dtype of tensor object after converting it to tensor: \", floats_to_tensor.dtype)\n",
        "print(\"The type of tensor object after converting it to tensor: \", floats_to_tensor.type())"
      ],
      "execution_count": null,
      "outputs": [
        {
          "output_type": "stream",
          "text": [
            "The dtype of tensor object after converting it to tensor:  torch.float32\n",
            "The type of tensor object after converting it to tensor:  torch.FloatTensor\n"
          ],
          "name": "stdout"
        }
      ]
    },
    {
      "cell_type": "code",
      "metadata": {
        "id": "cCaos9XlxYPw",
        "colab_type": "code",
        "colab": {
          "base_uri": "https://localhost:8080/",
          "height": 34
        },
        "outputId": "3edc8364-f300-43b5-915a-ad3f9bd37c8f"
      },
      "source": [
        "# Convert a integer list with length 5 to float tensor\n",
        "\n",
        "new_float_tensor = torch.FloatTensor([0, 1, 2, 3, 4])\n",
        "new_float_tensor.type()\n",
        "print(\"The type of the new_float_tensor:\", new_float_tensor.type())"
      ],
      "execution_count": null,
      "outputs": [
        {
          "output_type": "stream",
          "text": [
            "The type of the new_float_tensor: torch.FloatTensor\n"
          ],
          "name": "stdout"
        }
      ]
    },
    {
      "cell_type": "code",
      "metadata": {
        "id": "WcB993osxmEU",
        "colab_type": "code",
        "colab": {
          "base_uri": "https://localhost:8080/",
          "height": 34
        },
        "outputId": "059d36a0-865a-4286-e11e-7143a2e0218b"
      },
      "source": [
        "# Another method to convert the integer list to float tensor\n",
        "\n",
        "old_int_tensor = torch.tensor([0, 1, 2, 3, 4])\n",
        "new_float_tensor = old_int_tensor.type(torch.FloatTensor)\n",
        "print(\"The type of the new_float_tensor:\", new_float_tensor.type())"
      ],
      "execution_count": null,
      "outputs": [
        {
          "output_type": "stream",
          "text": [
            "The type of the new_float_tensor: torch.FloatTensor\n"
          ],
          "name": "stdout"
        }
      ]
    },
    {
      "cell_type": "code",
      "metadata": {
        "id": "mXNUSBThxtHY",
        "colab_type": "code",
        "colab": {
          "base_uri": "https://localhost:8080/",
          "height": 51
        },
        "outputId": "bb82def6-6b01-42b4-812d-40a8520c7811"
      },
      "source": [
        "# Introduce the tensor_obj.size() & tensor_ndimension.size() methods\n",
        "\n",
        "print(\"The size of the new_float_tensor: \", new_float_tensor.size())\n",
        "print(\"The dimension of the new_float_tensor: \",new_float_tensor.ndimension())"
      ],
      "execution_count": null,
      "outputs": [
        {
          "output_type": "stream",
          "text": [
            "The size of the new_float_tensor:  torch.Size([5])\n",
            "The dimension of the new_float_tensor:  1\n"
          ],
          "name": "stdout"
        }
      ]
    },
    {
      "cell_type": "code",
      "metadata": {
        "id": "G_H_7-_AxxIc",
        "colab_type": "code",
        "colab": {
          "base_uri": "https://localhost:8080/",
          "height": 119
        },
        "outputId": "fd8c5718-64c3-4c28-e5d4-6ec76ba9a06e"
      },
      "source": [
        "# Introduce the tensor_obj.view(row, column) method\n",
        "\n",
        "twoD_float_tensor = new_float_tensor.view(5, 1)\n",
        "print(\"Original Size: \", new_float_tensor)\n",
        "print(\"Size after view method\", twoD_float_tensor)"
      ],
      "execution_count": null,
      "outputs": [
        {
          "output_type": "stream",
          "text": [
            "Original Size:  tensor([0., 1., 2., 3., 4.])\n",
            "Size after view method tensor([[0.],\n",
            "        [1.],\n",
            "        [2.],\n",
            "        [3.],\n",
            "        [4.]])\n"
          ],
          "name": "stdout"
        }
      ]
    },
    {
      "cell_type": "code",
      "metadata": {
        "id": "i9fT-0mqx7s_",
        "colab_type": "code",
        "colab": {
          "base_uri": "https://localhost:8080/",
          "height": 119
        },
        "outputId": "bda66a63-3301-44a0-82b7-b769cd70baa5"
      },
      "source": [
        "# Introduce the use of -1 in tensor_obj.view(row, column) method\n",
        "\n",
        "twoD_float_tensor = new_float_tensor.view(-1, 1)\n",
        "print(\"Original Size: \", new_float_tensor)\n",
        "print(\"Size after view method\", twoD_float_tensor)"
      ],
      "execution_count": null,
      "outputs": [
        {
          "output_type": "stream",
          "text": [
            "Original Size:  tensor([0., 1., 2., 3., 4.])\n",
            "Size after view method tensor([[0.],\n",
            "        [1.],\n",
            "        [2.],\n",
            "        [3.],\n",
            "        [4.]])\n"
          ],
          "name": "stdout"
        }
      ]
    },
    {
      "cell_type": "code",
      "metadata": {
        "id": "WWpAZ5wfyDs1",
        "colab_type": "code",
        "colab": {
          "base_uri": "https://localhost:8080/",
          "height": 51
        },
        "outputId": "92f0208b-2f58-4ac2-835e-fc0d432ae000"
      },
      "source": [
        "# Convert a numpy array to a tensor\n",
        "\n",
        "numpy_array = np.array([0.0, 1.0, 2.0, 3.0, 4.0])\n",
        "new_tensor = torch.from_numpy(numpy_array)\n",
        "\n",
        "print(\"The dtype of new tensor: \", new_tensor.dtype)\n",
        "print(\"The type of new tensor: \", new_tensor.type())"
      ],
      "execution_count": null,
      "outputs": [
        {
          "output_type": "stream",
          "text": [
            "The dtype of new tensor:  torch.float64\n",
            "The type of new tensor:  torch.DoubleTensor\n"
          ],
          "name": "stdout"
        }
      ]
    },
    {
      "cell_type": "code",
      "metadata": {
        "id": "q669AcRmyKeJ",
        "colab_type": "code",
        "colab": {
          "base_uri": "https://localhost:8080/",
          "height": 51
        },
        "outputId": "00ae7289-0668-4469-fde5-2b99763a0078"
      },
      "source": [
        "# Convert a tensor to a numpy array\n",
        "\n",
        "back_to_numpy = new_tensor.numpy()\n",
        "print(\"The numpy array from tensor: \", back_to_numpy)\n",
        "print(\"The dtype of numpy array: \", back_to_numpy.dtype)"
      ],
      "execution_count": null,
      "outputs": [
        {
          "output_type": "stream",
          "text": [
            "The numpy array from tensor:  [0. 1. 2. 3. 4.]\n",
            "The dtype of numpy array:  float64\n"
          ],
          "name": "stdout"
        }
      ]
    },
    {
      "cell_type": "markdown",
      "metadata": {
        "id": "2tLaPfJiN4cs",
        "colab_type": "text"
      },
      "source": [
        "back_to_numpy and new_tensor still point to numpy_array. As a result if we change numpy_array both back_to_numpy and new_tensor will change. For example if we set all the elements in numpy_array to zeros, back_to_numpy and  new_tensor will follow suit."
      ]
    },
    {
      "cell_type": "code",
      "metadata": {
        "id": "aTaFOr4jNrle",
        "colab_type": "code",
        "colab": {
          "base_uri": "https://localhost:8080/",
          "height": 51
        },
        "outputId": "d4a26d24-b82c-4b51-c490-2a25d44429d5"
      },
      "source": [
        "# Set all elements in numpy array to zero \n",
        "numpy_array[:] = 0\n",
        "print(\"The new tensor points to numpy_array : \", new_tensor)\n",
        "print(\"and back to numpy array points to the tensor: \", back_to_numpy)"
      ],
      "execution_count": null,
      "outputs": [
        {
          "output_type": "stream",
          "text": [
            "The new tensor points to numpy_array :  tensor([0., 0., 0., 0., 0.], dtype=torch.float64)\n",
            "and back to numpy array points to the tensor:  [0. 0. 0. 0. 0.]\n"
          ],
          "name": "stdout"
        }
      ]
    },
    {
      "cell_type": "code",
      "metadata": {
        "id": "Bh88z1jcN69T",
        "colab_type": "code",
        "colab": {
          "base_uri": "https://localhost:8080/",
          "height": 68
        },
        "outputId": "c5b74324-dcc2-47a3-fe7f-d9523829dcf8"
      },
      "source": [
        "# Convert a panda series to a tensor\n",
        "\n",
        "pandas_series=pd.Series([0.1, 2, 0.3, 10.1])\n",
        "new_tensor=torch.from_numpy(pandas_series.values)\n",
        "print(\"The new tensor from numpy array: \", new_tensor)\n",
        "print(\"The dtype of new tensor: \", new_tensor.dtype)\n",
        "print(\"The type of new tensor: \", new_tensor.type())"
      ],
      "execution_count": null,
      "outputs": [
        {
          "output_type": "stream",
          "text": [
            "The new tensor from numpy array:  tensor([ 0.1000,  2.0000,  0.3000, 10.1000], dtype=torch.float64)\n",
            "The dtype of new tensor:  torch.float64\n",
            "The type of new tensor:  torch.DoubleTensor\n"
          ],
          "name": "stdout"
        }
      ]
    },
    {
      "cell_type": "code",
      "metadata": {
        "id": "-pZUHTkcN_Bw",
        "colab_type": "code",
        "colab": {
          "base_uri": "https://localhost:8080/",
          "height": 102
        },
        "outputId": "de04dbaf-2f86-4e3f-98af-65e07bf25429"
      },
      "source": [
        "# A tensor for showing how the indexs work on tensors\n",
        "\n",
        "index_tensor = torch.tensor([0, 1, 2, 3, 4])\n",
        "print(\"The value on index 0:\",index_tensor[0])\n",
        "print(\"The value on index 1:\",index_tensor[1])\n",
        "print(\"The value on index 2:\",index_tensor[2])\n",
        "print(\"The value on index 3:\",index_tensor[3])\n",
        "print(\"The value on index 4:\",index_tensor[4])"
      ],
      "execution_count": null,
      "outputs": [
        {
          "output_type": "stream",
          "text": [
            "The value on index 0: tensor(0)\n",
            "The value on index 1: tensor(1)\n",
            "The value on index 2: tensor(2)\n",
            "The value on index 3: tensor(3)\n",
            "The value on index 4: tensor(4)\n"
          ],
          "name": "stdout"
        }
      ]
    },
    {
      "cell_type": "code",
      "metadata": {
        "id": "DINjm6WfORmi",
        "colab_type": "code",
        "colab": {
          "base_uri": "https://localhost:8080/",
          "height": 119
        },
        "outputId": "bc30fc68-718e-4f50-d0f3-d9b736b804a6"
      },
      "source": [
        "# A tensor for showing how to change value according to the index\n",
        "\n",
        "tensor_sample = torch.tensor([20, 1, 2, 3, 4])\n",
        "# Change the value on the index 0 to 100\n",
        "\n",
        "print(\"Inital value on index 0:\", tensor_sample[0])\n",
        "tensor_sample[0] = 100\n",
        "print(\"Modified tensor:\", tensor_sample)\n",
        "# Change the value on the index 4 to 0\n",
        "\n",
        "print(\"Inital value on index 4:\", tensor_sample[4])\n",
        "tensor_sample[4] = 0\n",
        "print(\"Modified tensor:\", tensor_sample)\n",
        "# Slice tensor_sample\n",
        "\n",
        "subset_tensor_sample = tensor_sample[1:4]\n",
        "print(\"Original tensor sample: \", tensor_sample)\n",
        "print(\"The subset of tensor sample:\", subset_tensor_sample)"
      ],
      "execution_count": null,
      "outputs": [
        {
          "output_type": "stream",
          "text": [
            "Inital value on index 0: tensor(20)\n",
            "Modified tensor: tensor([100,   1,   2,   3,   4])\n",
            "Inital value on index 4: tensor(4)\n",
            "Modified tensor: tensor([100,   1,   2,   3,   0])\n",
            "Original tensor sample:  tensor([100,   1,   2,   3,   0])\n",
            "The subset of tensor sample: tensor([1, 2, 3])\n"
          ],
          "name": "stdout"
        }
      ]
    },
    {
      "cell_type": "code",
      "metadata": {
        "id": "xDPzLqt_PSnd",
        "colab_type": "code",
        "colab": {
          "base_uri": "https://localhost:8080/",
          "height": 51
        },
        "outputId": "f2ff2390-694f-4282-8983-504de4aa2a23"
      },
      "source": [
        "# Change the values on index 3 and index 4\n",
        "\n",
        "print(\"Inital value on index 3 and index 4:\", tensor_sample[3:5])\n",
        "tensor_sample[3:5] = torch.tensor([300.0, 400.0])\n",
        "print(\"Modified tensor:\", tensor_sample)"
      ],
      "execution_count": null,
      "outputs": [
        {
          "output_type": "stream",
          "text": [
            "Inital value on index 3 and index 4: tensor([3, 0])\n",
            "Modified tensor: tensor([100,   1,   2, 300, 400])\n"
          ],
          "name": "stdout"
        }
      ]
    },
    {
      "cell_type": "code",
      "metadata": {
        "id": "ABySH6N2PfFb",
        "colab_type": "code",
        "colab": {
          "base_uri": "https://localhost:8080/",
          "height": 51
        },
        "outputId": "b3eb7552-2e9c-465c-a078-c55f7897a87f"
      },
      "source": [
        "# Using variable to contain the selected index, and pass it to slice operation\n",
        "\n",
        "selected_indexes = [3, 4]\n",
        "subset_tensor_sample = tensor_sample[selected_indexes]\n",
        "print(\"The inital tensor_sample\", tensor_sample)\n",
        "print(\"The subset of tensor_sample with the values on index 3 and 4: \", subset_tensor_sample)"
      ],
      "execution_count": null,
      "outputs": [
        {
          "output_type": "stream",
          "text": [
            "The inital tensor_sample tensor([100,   1,   2, 300, 400])\n",
            "The subset of tensor_sample with the values on index 3 and 4:  tensor([300, 400])\n"
          ],
          "name": "stdout"
        }
      ]
    },
    {
      "cell_type": "code",
      "metadata": {
        "id": "GGd5hl-cPxEq",
        "colab_type": "code",
        "colab": {
          "base_uri": "https://localhost:8080/",
          "height": 51
        },
        "outputId": "558f8d98-08ca-4c34-b7bd-2930c106c271"
      },
      "source": [
        "#Using variable to assign the value to the selected indexes\n",
        "\n",
        "print(\"The inital tensor_sample\", tensor_sample)\n",
        "selected_indexes = [1, 3]\n",
        "tensor_sample[selected_indexes] = 100000\n",
        "print(\"Modified tensor with one value: \", tensor_sample)"
      ],
      "execution_count": null,
      "outputs": [
        {
          "output_type": "stream",
          "text": [
            "The inital tensor_sample tensor([100,   1,   2, 300, 400])\n",
            "Modified tensor with one value:  tensor([   100, 100000,      2, 100000,    400])\n"
          ],
          "name": "stdout"
        }
      ]
    },
    {
      "cell_type": "code",
      "metadata": {
        "id": "mfl4LKOqQEfM",
        "colab_type": "code",
        "colab": {
          "base_uri": "https://localhost:8080/",
          "height": 34
        },
        "outputId": "83a05e6e-9696-4397-f220-58eac1f774b9"
      },
      "source": [
        "# Sample tensor for mathmatic calculation methods on tensor\n",
        "\n",
        "math_tensor = torch.tensor([1.0, -1.0, 1, -1])\n",
        "print(\"Tensor example: \", math_tensor)"
      ],
      "execution_count": null,
      "outputs": [
        {
          "output_type": "stream",
          "text": [
            "Tensor example:  tensor([ 1., -1.,  1., -1.])\n"
          ],
          "name": "stdout"
        }
      ]
    },
    {
      "cell_type": "code",
      "metadata": {
        "id": "r_x78T16Qhbi",
        "colab_type": "code",
        "colab": {
          "base_uri": "https://localhost:8080/",
          "height": 34
        },
        "outputId": "b223fd92-0f5b-4a47-b669-ec2ae65fd5ca"
      },
      "source": [
        "#Calculate the mean for math_tensor\n",
        "\n",
        "mean = math_tensor.mean()\n",
        "print(\"The mean of math_tensor: \", mean)"
      ],
      "execution_count": null,
      "outputs": [
        {
          "output_type": "stream",
          "text": [
            "The mean of math_tensor:  tensor(0.)\n"
          ],
          "name": "stdout"
        }
      ]
    },
    {
      "cell_type": "code",
      "metadata": {
        "id": "0T2vw56GQjZd",
        "colab_type": "code",
        "colab": {
          "base_uri": "https://localhost:8080/",
          "height": 34
        },
        "outputId": "8be234e2-9227-4494-dc6a-d2b5f5cbbc68"
      },
      "source": [
        "#Calculate the standard deviation for math_tensor\n",
        "\n",
        "standard_deviation = math_tensor.std()\n",
        "print(\"The standard deviation of math_tensor: \", standard_deviation)"
      ],
      "execution_count": null,
      "outputs": [
        {
          "output_type": "stream",
          "text": [
            "The standard deviation of math_tensor:  tensor(1.1547)\n"
          ],
          "name": "stdout"
        }
      ]
    },
    {
      "cell_type": "code",
      "metadata": {
        "id": "V3m1PkLJQpOF",
        "colab_type": "code",
        "colab": {
          "base_uri": "https://localhost:8080/",
          "height": 34
        },
        "outputId": "def8386c-1a70-4acf-acc8-a8a367457fbd"
      },
      "source": [
        "# Sample for introducing max and min methods\n",
        "\n",
        "max_min_tensor = torch.tensor([1, 1, 3, 5, 5])\n",
        "print(\"Tensor example: \", max_min_tensor)"
      ],
      "execution_count": null,
      "outputs": [
        {
          "output_type": "stream",
          "text": [
            "Tensor example:  tensor([1, 1, 3, 5, 5])\n"
          ],
          "name": "stdout"
        }
      ]
    },
    {
      "cell_type": "code",
      "metadata": {
        "id": "ooz5rHqkQuQh",
        "colab_type": "code",
        "colab": {
          "base_uri": "https://localhost:8080/",
          "height": 34
        },
        "outputId": "5c2fd6d1-b2f4-44c9-c193-7b7396b67a38"
      },
      "source": [
        "# Method for finding the maximum value in the tensor\n",
        "\n",
        "max_val = max_min_tensor.max()\n",
        "print(\"Maximum number in the tensor: \", max_val)"
      ],
      "execution_count": null,
      "outputs": [
        {
          "output_type": "stream",
          "text": [
            "Maximum number in the tensor:  tensor(5)\n"
          ],
          "name": "stdout"
        }
      ]
    },
    {
      "cell_type": "code",
      "metadata": {
        "id": "cnw9xxS8Qzbu",
        "colab_type": "code",
        "colab": {
          "base_uri": "https://localhost:8080/",
          "height": 34
        },
        "outputId": "7c8d251d-61d0-4f99-9d6a-83a6bb14daa9"
      },
      "source": [
        "# Method for finding the minimum value in the tensor\n",
        "\n",
        "min_val = max_min_tensor.min()\n",
        "print(\"Minimum number in the tensor: \", min_val)"
      ],
      "execution_count": null,
      "outputs": [
        {
          "output_type": "stream",
          "text": [
            "Minimum number in the tensor:  tensor(1)\n"
          ],
          "name": "stdout"
        }
      ]
    },
    {
      "cell_type": "code",
      "metadata": {
        "id": "pdF7nCcJQ23H",
        "colab_type": "code",
        "colab": {
          "base_uri": "https://localhost:8080/",
          "height": 34
        },
        "outputId": "144508aa-041b-49b9-9f28-e7829a622671"
      },
      "source": [
        "# Method for calculating the sin result of each element in the tensor\n",
        "\n",
        "pi_tensor = torch.tensor([0, np.pi/2, np.pi])\n",
        "sin = torch.sin(pi_tensor)\n",
        "print(\"The sin result of pi_tensor: \", sin)"
      ],
      "execution_count": null,
      "outputs": [
        {
          "output_type": "stream",
          "text": [
            "The sin result of pi_tensor:  tensor([ 0.0000e+00,  1.0000e+00, -8.7423e-08])\n"
          ],
          "name": "stdout"
        }
      ]
    },
    {
      "cell_type": "code",
      "metadata": {
        "id": "AmDxrbQQQ61D",
        "colab_type": "code",
        "colab": {
          "base_uri": "https://localhost:8080/",
          "height": 34
        },
        "outputId": "2169271b-fe46-43a8-f63b-09cabd0111cc"
      },
      "source": [
        "# First try on using linspace to create tensor\n",
        "\n",
        "len_5_tensor = torch.linspace(-2, 2, steps = 5)\n",
        "print (\"First Try on linspace\", len_5_tensor)"
      ],
      "execution_count": null,
      "outputs": [
        {
          "output_type": "stream",
          "text": [
            "First Try on linspace tensor([-2., -1.,  0.,  1.,  2.])\n"
          ],
          "name": "stdout"
        }
      ]
    },
    {
      "cell_type": "code",
      "metadata": {
        "id": "scpe1ENORB5T",
        "colab_type": "code",
        "colab": {
          "base_uri": "https://localhost:8080/",
          "height": 51
        },
        "outputId": "0987b60a-84a0-4633-cc92-e58ac55c3480"
      },
      "source": [
        "# Second try on using linspace to create tensor\n",
        "\n",
        "len_9_tensor = torch.linspace(-2, 2, steps = 9)\n",
        "print (\"Second Try on linspace\", len_9_tensor)"
      ],
      "execution_count": null,
      "outputs": [
        {
          "output_type": "stream",
          "text": [
            "Second Try on linspace tensor([-2.0000, -1.5000, -1.0000, -0.5000,  0.0000,  0.5000,  1.0000,  1.5000,\n",
            "         2.0000])\n"
          ],
          "name": "stdout"
        }
      ]
    },
    {
      "cell_type": "code",
      "metadata": {
        "id": "xFz6szb0RDf1",
        "colab_type": "code",
        "colab": {}
      },
      "source": [
        "# Construct the tensor within 0 to 360 degree\n",
        "\n",
        "pi_tensor = torch.linspace(0, 2*np.pi, 100)\n",
        "sin_result = torch.sin(pi_tensor)"
      ],
      "execution_count": null,
      "outputs": []
    },
    {
      "cell_type": "code",
      "metadata": {
        "id": "ZXWVTpqMRIYG",
        "colab_type": "code",
        "colab": {
          "base_uri": "https://localhost:8080/",
          "height": 282
        },
        "outputId": "86c55158-cc7f-4220-d1f9-55f1cc7c79b5"
      },
      "source": [
        "# Plot sin_result\n",
        "\n",
        "plt.plot(pi_tensor.numpy(), sin_result.numpy())"
      ],
      "execution_count": null,
      "outputs": [
        {
          "output_type": "execute_result",
          "data": {
            "text/plain": [
              "[<matplotlib.lines.Line2D at 0x7f8441c8c9e8>]"
            ]
          },
          "metadata": {
            "tags": []
          },
          "execution_count": 32
        },
        {
          "output_type": "display_data",
          "data": {
            "image/png": "[encoded data removed]",
            "text/plain": [
              "<Figure size 432x288 with 1 Axes>"
            ]
          },
          "metadata": {
            "tags": [],
            "needs_background": "light"
          }
        }
      ]
    },
    {
      "cell_type": "code",
      "metadata": {
        "id": "IW9wwkbfRLyq",
        "colab_type": "code",
        "colab": {}
      },
      "source": [
        "# Create two sample tensors\n",
        "\n",
        "u = torch.tensor([1, 0])\n",
        "v = torch.tensor([0, 1])"
      ],
      "execution_count": null,
      "outputs": []
    },
    {
      "cell_type": "code",
      "metadata": {
        "id": "TjjmDMJkRWZL",
        "colab_type": "code",
        "colab": {
          "base_uri": "https://localhost:8080/",
          "height": 34
        },
        "outputId": "8382deee-b9a3-4071-a399-4d4370557a59"
      },
      "source": [
        "# Add u and v\n",
        "\n",
        "w = u + v\n",
        "print(\"The result tensor: \", w)"
      ],
      "execution_count": null,
      "outputs": [
        {
          "output_type": "stream",
          "text": [
            "The result tensor:  tensor([1, 1])\n"
          ],
          "name": "stdout"
        }
      ]
    },
    {
      "cell_type": "code",
      "metadata": {
        "id": "3p3hYKjnRfiN",
        "colab_type": "code",
        "colab": {
          "base_uri": "https://localhost:8080/",
          "height": 269
        },
        "outputId": "5b979af0-8ada-40c7-c857-381260a38bb4"
      },
      "source": [
        "# Plot u, v, w\n",
        "\n",
        "plotVec([\n",
        "    {\"vector\": u.numpy(), \"name\": 'u', \"color\": 'r'},\n",
        "    {\"vector\": v.numpy(), \"name\": 'v', \"color\": 'b'},\n",
        "    {\"vector\": w.numpy(), \"name\": 'w', \"color\": 'g'}\n",
        "])"
      ],
      "execution_count": null,
      "outputs": [
        {
          "output_type": "display_data",
          "data": {
            "image/png": "[encoded data removed]",
            "text/plain": [
              "<Figure size 432x288 with 1 Axes>"
            ]
          },
          "metadata": {
            "tags": [],
            "needs_background": "light"
          }
        }
      ]
    },
    {
      "cell_type": "code",
      "metadata": {
        "id": "HgtNdkC8RiW_",
        "colab_type": "code",
        "colab": {
          "base_uri": "https://localhost:8080/",
          "height": 68
        },
        "outputId": "700e8452-5788-4a0c-ed95-1bda040ab06f"
      },
      "source": [
        "# Convert 2D List to 2D Tensor\n",
        "\n",
        "twoD_list = [[11, 12, 13], [21, 22, 23], [31, 32, 33]]\n",
        "twoD_tensor = torch.tensor(twoD_list)\n",
        "print(\"The New 2D Tensor: \", twoD_tensor)"
      ],
      "execution_count": null,
      "outputs": [
        {
          "output_type": "stream",
          "text": [
            "The New 2D Tensor:  tensor([[11, 12, 13],\n",
            "        [21, 22, 23],\n",
            "        [31, 32, 33]])\n"
          ],
          "name": "stdout"
        }
      ]
    },
    {
      "cell_type": "code",
      "metadata": {
        "id": "7pN12CcCufcJ",
        "colab_type": "code",
        "colab": {
          "base_uri": "https://localhost:8080/",
          "height": 68
        },
        "outputId": "1e86bbda-d2a9-4190-cb97-7dbf854c6121"
      },
      "source": [
        "# Try tensor_obj.ndimension(), tensor_obj.shape, tensor_obj.size()\n",
        "\n",
        "print(\"The dimension of twoD_tensor: \", twoD_tensor.ndimension())\n",
        "print(\"The shape of twoD_tensor: \", twoD_tensor.shape)\n",
        "print(\"The shape of twoD_tensor: \", twoD_tensor.size())"
      ],
      "execution_count": null,
      "outputs": [
        {
          "output_type": "stream",
          "text": [
            "The dimension of twoD_tensor:  2\n",
            "The shape of twoD_tensor:  torch.Size([3, 3])\n",
            "The shape of twoD_tensor:  torch.Size([3, 3])\n"
          ],
          "name": "stdout"
        }
      ]
    },
    {
      "cell_type": "code",
      "metadata": {
        "id": "cSt6g6MSu6VC",
        "colab_type": "code",
        "colab": {
          "base_uri": "https://localhost:8080/",
          "height": 204
        },
        "outputId": "bbb1861f-cccd-4f0d-a919-dc80842fa4e3"
      },
      "source": [
        "# Convert tensor to numpy array; Convert numpy array to tensor\n",
        "\n",
        "twoD_numpy = twoD_tensor.numpy()\n",
        "print(\"Tensor -> Numpy Array:\")\n",
        "print(\"The numpy array after converting: \", twoD_numpy)\n",
        "print(\"Type before converting: \", twoD_numpy.dtype)\n",
        "\n",
        "print(\"================================================\")\n",
        "\n",
        "new_twoD_tensor = torch.from_numpy(twoD_numpy)\n",
        "print(\"Numpy Array -> Tensor:\")\n",
        "print(\"The tensor after converting:\", new_twoD_tensor)\n",
        "print(\"Type after converting: \", new_twoD_tensor.dtype)"
      ],
      "execution_count": null,
      "outputs": [
        {
          "output_type": "stream",
          "text": [
            "Tensor -> Numpy Array:\n",
            "The numpy array after converting:  [[11 12 13]\n",
            " [21 22 23]\n",
            " [31 32 33]]\n",
            "Type before converting:  int64\n",
            "================================================\n",
            "Numpy Array -> Tensor:\n",
            "The tensor after converting: tensor([[11, 12, 13],\n",
            "        [21, 22, 23],\n",
            "        [31, 32, 33]])\n",
            "Type after converting:  torch.int64\n"
          ],
          "name": "stdout"
        }
      ]
    },
    {
      "cell_type": "code",
      "metadata": {
        "id": "6_vT4cMkvKlW",
        "colab_type": "code",
        "colab": {
          "base_uri": "https://localhost:8080/",
          "height": 170
        },
        "outputId": "8ccba0d3-7e7f-474c-b659-f5d0e3ed6a34"
      },
      "source": [
        "# Try to convert the Panda Dataframe to tensor\n",
        "\n",
        "df = pd.DataFrame({'a':[11,21,31],'b':[12,22,312]})\n",
        "\n",
        "print(\"Pandas Dataframe to numpy: \", df.values)\n",
        "print(\"Type BEFORE converting: \", df.values.dtype)\n",
        "\n",
        "print(\"================================================\")\n",
        "\n",
        "new_tensor = torch.from_numpy(df.values)\n",
        "print(\"Tensor AFTER converting: \", new_tensor)\n",
        "print(\"Type AFTER converting: \", new_tensor.dtype)"
      ],
      "execution_count": null,
      "outputs": [
        {
          "output_type": "stream",
          "text": [
            "Pandas Dataframe to numpy:  [[ 11  12]\n",
            " [ 21  22]\n",
            " [ 31 312]]\n",
            "Type BEFORE converting:  int64\n",
            "================================================\n",
            "Tensor AFTER converting:  tensor([[ 11,  12],\n",
            "        [ 21,  22],\n",
            "        [ 31, 312]])\n",
            "Type AFTER converting:  torch.int64\n"
          ],
          "name": "stdout"
        }
      ]
    },
    {
      "cell_type": "code",
      "metadata": {
        "id": "u6mRzwOrvXCu",
        "colab_type": "code",
        "colab": {
          "base_uri": "https://localhost:8080/",
          "height": 51
        },
        "outputId": "a797bb11-8b82-4586-f193-a5dac6f58cf5"
      },
      "source": [
        "# Use tensor_obj[row, column] and tensor_obj[row][column] to access certain position\n",
        "\n",
        "tensor_example = torch.tensor([[11, 12, 13], [21, 22, 23], [31, 32, 33]])\n",
        "print(\"What is the value on 2nd-row 3rd-column? \", tensor_example[1, 2])\n",
        "print(\"What is the value on 2nd-row 3rd-column? \", tensor_example[1][2])"
      ],
      "execution_count": null,
      "outputs": [
        {
          "output_type": "stream",
          "text": [
            "What is the value on 2nd-row 3rd-column?  tensor(23)\n",
            "What is the value on 2nd-row 3rd-column?  tensor(23)\n"
          ],
          "name": "stdout"
        }
      ]
    },
    {
      "cell_type": "code",
      "metadata": {
        "id": "-XTytjlgwaam",
        "colab_type": "code",
        "colab": {
          "base_uri": "https://localhost:8080/",
          "height": 51
        },
        "outputId": "0ee66a8b-cab3-43c8-f6c0-7f2fb22ae8d7"
      },
      "source": [
        "# Use tensor_obj[begin_row_number: end_row_number, begin_column_number: end_column number] \n",
        "# and tensor_obj[row][begin_column_number: end_column number] to do the slicing\n",
        "\n",
        "tensor_example = torch.tensor([[11, 12, 13], [21, 22, 23], [31, 32, 33]])\n",
        "print(\"What is the value on 1st-row first two columns? \", tensor_example[0, 0:2])\n",
        "print(\"What is the value on 1st-row first two columns? \", tensor_example[0][0:2])"
      ],
      "execution_count": null,
      "outputs": [
        {
          "output_type": "stream",
          "text": [
            "What is the value on 1st-row first two columns?  tensor([11, 12])\n",
            "What is the value on 1st-row first two columns?  tensor([11, 12])\n"
          ],
          "name": "stdout"
        }
      ]
    },
    {
      "cell_type": "code",
      "metadata": {
        "id": "B4ni47dRwqMN",
        "colab_type": "code",
        "colab": {
          "base_uri": "https://localhost:8080/",
          "height": 221
        },
        "outputId": "a79acdfa-2d0d-4699-a373-cd5cef53c787"
      },
      "source": [
        "# Give an idea on tensor_obj[number: number][number]\n",
        "\n",
        "tensor_example = torch.tensor([[11, 12, 13], [21, 22, 23], [31, 32, 33]])\n",
        "sliced_tensor_example = tensor_example[1:3]\n",
        "print(\"1. Slicing step on tensor_example: \")\n",
        "print(\"Result after tensor_example[1:3]: \", sliced_tensor_example)\n",
        "print(\"Dimension after tensor_example[1:3]: \", sliced_tensor_example.ndimension())\n",
        "print(\"================================================\")\n",
        "print(\"2. Pick an index on sliced_tensor_example: \")\n",
        "print(\"Result after sliced_tensor_example[1]: \", sliced_tensor_example[1])\n",
        "print(\"Dimension after sliced_tensor_example[1]: \", sliced_tensor_example[1].ndimension())\n",
        "print(\"================================================\")\n",
        "print(\"3. Combine these step together:\")\n",
        "print(\"Result: \", tensor_example[1:3][1])\n",
        "print(\"Dimension: \", tensor_example[1:3][1].ndimension())"
      ],
      "execution_count": null,
      "outputs": [
        {
          "output_type": "stream",
          "text": [
            "1. Slicing step on tensor_example: \n",
            "Result after tensor_example[1:3]:  tensor([[21, 22, 23],\n",
            "        [31, 32, 33]])\n",
            "Dimension after tensor_example[1:3]:  2\n",
            "================================================\n",
            "2. Pick an index on sliced_tensor_example: \n",
            "Result after sliced_tensor_example[1]:  tensor([31, 32, 33])\n",
            "Dimension after sliced_tensor_example[1]:  1\n",
            "================================================\n",
            "3. Combine these step together:\n",
            "Result:  tensor([31, 32, 33])\n",
            "Dimension:  1\n"
          ],
          "name": "stdout"
        }
      ]
    },
    {
      "cell_type": "code",
      "metadata": {
        "id": "30h-jOhjw_XI",
        "colab_type": "code",
        "colab": {
          "base_uri": "https://localhost:8080/",
          "height": 34
        },
        "outputId": "9bc94399-91e9-49a2-ed6a-fdf630a33e6a"
      },
      "source": [
        "# Use tensor_obj[begin_row_number: end_row_number, begin_column_number: end_column number] \n",
        "\n",
        "tensor_example = torch.tensor([[11, 12, 13], [21, 22, 23], [31, 32, 33]])\n",
        "print(\"What is the value on 3rd-column last two rows? \", tensor_example[1:3, 2])"
      ],
      "execution_count": null,
      "outputs": [
        {
          "output_type": "stream",
          "text": [
            "What is the value on 3rd-column last two rows?  tensor([23, 33])\n"
          ],
          "name": "stdout"
        }
      ]
    },
    {
      "cell_type": "code",
      "metadata": {
        "id": "bOqKc3zRznSl",
        "colab_type": "code",
        "colab": {
          "base_uri": "https://localhost:8080/",
          "height": 51
        },
        "outputId": "76b30a59-132d-42da-9b28-1e850a0fda45"
      },
      "source": [
        "# Calculate [[1, 0], [0, 1]] + [[2, 1], [1, 2]]\n",
        "\n",
        "X = torch.tensor([[1, 0],[0, 1]]) \n",
        "Y = torch.tensor([[2, 1],[1, 2]])\n",
        "X_plus_Y = X + Y\n",
        "print(\"The result of X + Y: \", X_plus_Y)"
      ],
      "execution_count": null,
      "outputs": [
        {
          "output_type": "stream",
          "text": [
            "The result of X + Y:  tensor([[3, 1],\n",
            "        [1, 3]])\n"
          ],
          "name": "stdout"
        }
      ]
    },
    {
      "cell_type": "code",
      "metadata": {
        "id": "6FhGomCuzsl4",
        "colab_type": "code",
        "colab": {
          "base_uri": "https://localhost:8080/",
          "height": 51
        },
        "outputId": "c952fada-4fd0-4bfa-bd28-efc75dc95924"
      },
      "source": [
        "# Calculate 2 * [[2, 1], [1, 2]]\n",
        "\n",
        "Y = torch.tensor([[2, 1], [1, 2]]) \n",
        "two_Y = 2 * Y\n",
        "print(\"The result of 2Y: \", two_Y)"
      ],
      "execution_count": null,
      "outputs": [
        {
          "output_type": "stream",
          "text": [
            "The result of 2Y:  tensor([[4, 2],\n",
            "        [2, 4]])\n"
          ],
          "name": "stdout"
        }
      ]
    },
    {
      "cell_type": "code",
      "metadata": {
        "id": "X3FBL3AczzdP",
        "colab_type": "code",
        "colab": {
          "base_uri": "https://localhost:8080/",
          "height": 51
        },
        "outputId": "134738c9-eeb4-47c7-bffa-e31be90e49ad"
      },
      "source": [
        "# Calculate [[1, 0], [0, 1]] * [[2, 1], [1, 2]]\n",
        "\n",
        "X = torch.tensor([[1, 0], [0, 1]])\n",
        "Y = torch.tensor([[2, 1], [1, 2]]) \n",
        "X_times_Y = X * Y\n",
        "print(\"The result of X * Y: \", X_times_Y)"
      ],
      "execution_count": null,
      "outputs": [
        {
          "output_type": "stream",
          "text": [
            "The result of X * Y:  tensor([[2, 0],\n",
            "        [0, 2]])\n"
          ],
          "name": "stdout"
        }
      ]
    },
    {
      "cell_type": "code",
      "metadata": {
        "id": "6uaRbIydz3HH",
        "colab_type": "code",
        "colab": {
          "base_uri": "https://localhost:8080/",
          "height": 51
        },
        "outputId": "29ca861f-ec62-4be7-9785-522ac7909bb9"
      },
      "source": [
        "# Calculate [[0, 1, 1], [1, 0, 1]] * [[1, 1], [1, 1], [-1, 1]]\n",
        "\n",
        "A = torch.tensor([[0, 1, 1], [1, 0, 1]])\n",
        "B = torch.tensor([[1, 1], [1, 1], [-1, 1]])\n",
        "A_times_B = torch.mm(A,B)\n",
        "print(\"The result of A * B: \", A_times_B)"
      ],
      "execution_count": null,
      "outputs": [
        {
          "output_type": "stream",
          "text": [
            "The result of A * B:  tensor([[0, 2],\n",
            "        [0, 2]])\n"
          ],
          "name": "stdout"
        }
      ]
    },
    {
      "cell_type": "code",
      "metadata": {
        "id": "5u0s5Ds8z6bA",
        "colab_type": "code",
        "colab": {}
      },
      "source": [
        ""
      ],
      "execution_count": null,
      "outputs": []
    }
  ]
}